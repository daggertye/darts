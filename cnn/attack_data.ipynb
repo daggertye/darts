{
 "cells": [
  {
   "cell_type": "code",
   "execution_count": 1,
   "metadata": {},
   "outputs": [],
   "source": [
    "import torch\n",
    "import torchvision\n",
    "import numpy as np"
   ]
  },
  {
   "cell_type": "code",
   "execution_count": 2,
   "metadata": {},
   "outputs": [],
   "source": [
    "from cifar10models import *"
   ]
  },
  {
   "cell_type": "code",
   "execution_count": 4,
   "metadata": {},
   "outputs": [],
   "source": [
    "model = SENet18()"
   ]
  },
  {
   "cell_type": "code",
   "execution_count": 5,
   "metadata": {},
   "outputs": [],
   "source": [
    "model.load_state_dict(torch.load('../../../../share/cuvl/weights/cifar10/senet18_epoch_279_acc_94.59.pth'))"
   ]
  },
  {
   "cell_type": "code",
   "execution_count": 6,
   "metadata": {},
   "outputs": [],
   "source": [
    "from attacks import ifgsm"
   ]
  },
  {
   "cell_type": "code",
   "execution_count": 7,
   "metadata": {},
   "outputs": [],
   "source": [
    "import torchvision.datasets as dset"
   ]
  },
  {
   "cell_type": "code",
   "execution_count": 8,
   "metadata": {},
   "outputs": [],
   "source": [
    "def _data_transforms_cifar10():\n",
    "  CIFAR_MEAN = [0.49139968, 0.48215827, 0.44653124]\n",
    "  CIFAR_STD = [0.24703233, 0.24348505, 0.26158768]\n",
    "\n",
    "  train_transform = transforms.Compose([\n",
    "    transforms.RandomCrop(32, padding=4),\n",
    "    transforms.RandomHorizontalFlip(),\n",
    "    transforms.ToTensor(),\n",
    "    transforms.Normalize(CIFAR_MEAN, CIFAR_STD),\n",
    "  ])\n",
    "\n",
    "  valid_transform = transforms.Compose([\n",
    "    transforms.ToTensor(),\n",
    "    transforms.Normalize(CIFAR_MEAN, CIFAR_STD),\n",
    "    ])\n",
    "  return train_transform, valid_transform"
   ]
  },
  {
   "cell_type": "code",
   "execution_count": 9,
   "metadata": {},
   "outputs": [],
   "source": [
    "train_transform, valid_transform = _data_transforms_cifar10()"
   ]
  },
  {
   "cell_type": "code",
   "execution_count": 10,
   "metadata": {},
   "outputs": [
    {
     "name": "stdout",
     "output_type": "stream",
     "text": [
      "Files already downloaded and verified\n"
     ]
    }
   ],
   "source": [
    "train_data = dset.CIFAR10(root='../data', train=True, download=True, transform=train_transform)"
   ]
  },
  {
   "cell_type": "code",
   "execution_count": 11,
   "metadata": {},
   "outputs": [],
   "source": [
    "num_train = len(train_data)\n",
    "indices = list(range(num_train))\n",
    "split = int(np.floor(0.5 * num_train))"
   ]
  },
  {
   "cell_type": "code",
   "execution_count": 12,
   "metadata": {},
   "outputs": [],
   "source": [
    "train_tensors = []\n",
    "train_label = []"
   ]
  },
  {
   "cell_type": "code",
   "execution_count": 13,
   "metadata": {},
   "outputs": [],
   "source": [
    "for i in range(num_train):\n",
    "    train_tensors.append(train_data[i][0])\n",
    "    train_label.append(train_data[i][1])"
   ]
  },
  {
   "cell_type": "code",
   "execution_count": 14,
   "metadata": {
    "scrolled": true
   },
   "outputs": [
    {
     "data": {
      "text/plain": [
       "torch.Size([3, 32, 32])"
      ]
     },
     "execution_count": 14,
     "metadata": {},
     "output_type": "execute_result"
    }
   ],
   "source": [
    "train_tensors[5].size()"
   ]
  },
  {
   "cell_type": "code",
   "execution_count": 15,
   "metadata": {},
   "outputs": [],
   "source": [
    "num_train = len(train_data)\n",
    "indices = list(range(num_train))\n",
    "split = int(np.floor(0.5 * num_train))\n",
    "\n",
    "train_queue = torch.utils.data.DataLoader(\n",
    "  train_data, batch_size=64,\n",
    "  sampler=torch.utils.data.sampler.SubsetRandomSampler(indices[:]),\n",
    "  pin_memory=True, num_workers=2)"
   ]
  },
  {
   "cell_type": "code",
   "execution_count": 16,
   "metadata": {},
   "outputs": [],
   "source": [
    "import torch.nn as nn\n",
    "\n",
    "def ifgsm(model, X, y, niters=10, epsilon=0.01, visualize=False):\n",
    "    X_pert = X.clone()\n",
    "    X_pert.requires_grad = True\n",
    "    \n",
    "    for _ in range(niters):\n",
    "        output_perturbed = model(X_pert)\n",
    "        loss = nn.CrossEntropyLoss()(output_perturbed, y)\n",
    "        loss.backward()\n",
    "        pert = epsilon * X_pert.grad.detach().sign()\n",
    "\n",
    "        # add perturbation\n",
    "        X_pert = X_pert.detach() + pert\n",
    "        X_pert.requires_grad = True\n",
    "        \n",
    "        # make sure we don't modify the original image beyond epsilon\n",
    "        X_pert = (X_pert.detach() - X.clone()).clamp(-epsilon, epsilon) + X.clone()\n",
    "        X_pert.requires_grad = True\n",
    "        \n",
    "        # adjust to be within [-1, 1]\n",
    "        X_pert = X_pert.detach().clamp(-1, 1)\n",
    "        X_pert.requires_grad = True\n",
    "        \n",
    "    return X_pert"
   ]
  },
  {
   "cell_type": "code",
   "execution_count": 17,
   "metadata": {},
   "outputs": [
    {
     "name": "stderr",
     "output_type": "stream",
     "text": [
      "/share/apps/anaconda3/5.2.0/lib/python3.6/site-packages/torch/nn/functional.py:1006: UserWarning: nn.functional.sigmoid is deprecated. Use torch.sigmoid instead.\n",
      "  warnings.warn(\"nn.functional.sigmoid is deprecated. Use torch.sigmoid instead.\")\n"
     ]
    }
   ],
   "source": [
    "from torch.autograd import Variable\n",
    "perturbed_images = []\n",
    "perturbed_labels = []\n",
    "for step, (input, target) in enumerate(train_queue):\n",
    "    input = Variable(input)\n",
    "    target = Variable(target)\n",
    "    \n",
    "    input = ifgsm(model, input, target, niters=3)\n",
    "    perturbed_images.append(input)\n",
    "    perturbed_labels.append(target)"
   ]
  },
  {
   "cell_type": "code",
   "execution_count": 18,
   "metadata": {},
   "outputs": [],
   "source": [
    "pert_imgs = torch.cat(perturbed_images)\n",
    "pert_lbls = torch.cat(perturbed_labels)"
   ]
  },
  {
   "cell_type": "code",
   "execution_count": 19,
   "metadata": {},
   "outputs": [
    {
     "data": {
      "text/plain": [
       "torch.Size([50000, 3, 32, 32])"
      ]
     },
     "execution_count": 19,
     "metadata": {},
     "output_type": "execute_result"
    }
   ],
   "source": [
    "pert_imgs.size()"
   ]
  },
  {
   "cell_type": "code",
   "execution_count": 20,
   "metadata": {},
   "outputs": [
    {
     "data": {
      "text/plain": [
       "torch.Size([50000])"
      ]
     },
     "execution_count": 20,
     "metadata": {},
     "output_type": "execute_result"
    }
   ],
   "source": [
    "pert_lbls.size()"
   ]
  },
  {
   "cell_type": "code",
   "execution_count": 21,
   "metadata": {},
   "outputs": [],
   "source": [
    "np.save('senet_imgs.npy', pert_imgs.detach().numpy())"
   ]
  },
  {
   "cell_type": "code",
   "execution_count": 22,
   "metadata": {},
   "outputs": [],
   "source": [
    "np.save('senet_lbls.npy', pert_lbls.detach().numpy())"
   ]
  },
  {
   "cell_type": "code",
   "execution_count": null,
   "metadata": {},
   "outputs": [],
   "source": []
  }
 ],
 "metadata": {
  "kernelspec": {
   "display_name": "Python 3",
   "language": "python",
   "name": "python3"
  },
  "language_info": {
   "codemirror_mode": {
    "name": "ipython",
    "version": 3
   },
   "file_extension": ".py",
   "mimetype": "text/x-python",
   "name": "python",
   "nbconvert_exporter": "python",
   "pygments_lexer": "ipython3",
   "version": "3.6.5"
  }
 },
 "nbformat": 4,
 "nbformat_minor": 2
}
